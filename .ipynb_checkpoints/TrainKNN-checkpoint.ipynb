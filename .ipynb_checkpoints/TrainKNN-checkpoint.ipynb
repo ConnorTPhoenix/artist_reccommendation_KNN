{
 "cells": [
  {
   "cell_type": "code",
   "execution_count": null,
   "id": "d841dbb1",
   "metadata": {},
   "outputs": [],
   "source": [
    "import boto3\n",
    "import sagemaker\n",
    "\n",
    "sagemaker_session = sagemaker.Session()\n",
    "role = sagemaker.get_execution_role()\n",
    "\n",
    "bucket = sagemaker_session.default_bucket()"
   ]
  },
  {
   "cell_type": "code",
   "execution_count": null,
   "id": "f986ce08",
   "metadata": {},
   "outputs": [],
   "source": [
    "data_dir = 'data' \n",
    "prefix = 'rcmdKNN'\n",
    "input_data = sagemaker_session.upload_data(data_dir, key_prefix=prefix)"
   ]
  },
  {
   "cell_type": "code",
   "execution_count": null,
   "id": "84a224e6",
   "metadata": {},
   "outputs": [],
   "source": [
    "from sagemaker.sklearn.estimator import SKLearn\n",
    "\n",
    "estimator = SKLearn(entry_point='train.py',\n",
    "                    framework_version='0.23-1',\n",
    "                    role=role,\n",
    "                    train_instance_count=1,\n",
    "                    train_instance_type='ml.c4.xlarge',\n",
    "                    py_version='py3',\n",
    "                    source_dir='source',\n",
    "                    image_uri=None,\n",
    "                    hyperparameters = {'n_neighbors':10,\n",
    "                                       'metric':'cosine',\n",
    "                                       'algorithm':'brute'})"
   ]
  },
  {
   "cell_type": "code",
   "execution_count": null,
   "id": "ef3daacc",
   "metadata": {},
   "outputs": [],
   "source": [
    "estimator.fit({'train': input_data})"
   ]
  },
  {
   "cell_type": "code",
   "execution_count": null,
   "id": "72a62381",
   "metadata": {},
   "outputs": [],
   "source": [
    "from sagemaker.sklearn import SKLearnModel\n",
    "\n",
    "sklearn_model = SKLearnModel(model_data=estimator.model_data,\n",
    "                             role=role,\n",
    "                             entry_point=\"predict.py\",\n",
    "                             source_dir='source',\n",
    "                             framework_version='0.23-1')\n",
    "\n",
    "predictor = sklearn_model.deploy(instance_type=\"ml.m4.xlarge\", initial_instance_count=1)"
   ]
  },
  {
   "cell_type": "code",
   "execution_count": null,
   "id": "c89560a4",
   "metadata": {},
   "outputs": [],
   "source": [
    "predictor.predict(X[0].reshape(1,-1))"
   ]
  },
  {
   "cell_type": "code",
   "execution_count": null,
   "id": "a438ee79",
   "metadata": {},
   "outputs": [],
   "source": [
    "delete_endpoint()"
   ]
  },
  {
   "cell_type": "code",
   "execution_count": null,
   "id": "d3ad817c",
   "metadata": {},
   "outputs": [],
   "source": [
    "array([  0,  10,  11,  58,   5,   1, 377, 101,  28, 210])"
   ]
  }
 ],
 "metadata": {
  "kernelspec": {
   "display_name": "conda_amazonei_mxnet_p36",
   "language": "python",
   "name": "conda_amazonei_mxnet_p36"
  },
  "language_info": {
   "codemirror_mode": {
    "name": "ipython",
    "version": 3
   },
   "file_extension": ".py",
   "mimetype": "text/x-python",
   "name": "python",
   "nbconvert_exporter": "python",
   "pygments_lexer": "ipython3",
   "version": "3.6.13"
  }
 },
 "nbformat": 4,
 "nbformat_minor": 5
}
