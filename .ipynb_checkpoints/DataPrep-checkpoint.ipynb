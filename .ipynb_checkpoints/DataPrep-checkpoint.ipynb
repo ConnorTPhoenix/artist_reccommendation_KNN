{
 "cells": [
  {
   "cell_type": "code",
   "execution_count": 1,
   "id": "bf988cac",
   "metadata": {},
   "outputs": [],
   "source": [
    "import pandas as pd\n",
    "import pickle\n",
    "import matplotlib.pyplot as plt\n",
    "from scipy.sparse import lil_matrix"
   ]
  },
  {
   "cell_type": "code",
   "execution_count": 2,
   "id": "240efa45",
   "metadata": {},
   "outputs": [],
   "source": [
    "df = pd.read_csv('./datasources/processed/user_artist_plays.csv')"
   ]
  },
  {
   "cell_type": "code",
   "execution_count": 3,
   "id": "6298f0a5",
   "metadata": {},
   "outputs": [
    {
     "data": {
      "text/plain": [
       "User_ID     0\n",
       "Artist     35\n",
       "Plays       0\n",
       "dtype: int64"
      ]
     },
     "execution_count": 3,
     "metadata": {},
     "output_type": "execute_result"
    }
   ],
   "source": [
    "df.isnull().sum()"
   ]
  },
  {
   "cell_type": "code",
   "execution_count": 4,
   "id": "57e76f5a",
   "metadata": {},
   "outputs": [],
   "source": [
    "df = df.dropna()"
   ]
  },
  {
   "cell_type": "code",
   "execution_count": 5,
   "id": "01380f7c",
   "metadata": {},
   "outputs": [
    {
     "name": "stdout",
     "output_type": "stream",
     "text": [
      "No. Users: 66949\n"
     ]
    },
    {
     "data": {
      "text/html": [
       "<div>\n",
       "<style scoped>\n",
       "    .dataframe tbody tr th:only-of-type {\n",
       "        vertical-align: middle;\n",
       "    }\n",
       "\n",
       "    .dataframe tbody tr th {\n",
       "        vertical-align: top;\n",
       "    }\n",
       "\n",
       "    .dataframe thead tr th {\n",
       "        text-align: left;\n",
       "    }\n",
       "</style>\n",
       "<table border=\"1\" class=\"dataframe\">\n",
       "  <thead>\n",
       "    <tr>\n",
       "      <th></th>\n",
       "      <th>Artist</th>\n",
       "      <th>Plays</th>\n",
       "    </tr>\n",
       "    <tr>\n",
       "      <th></th>\n",
       "      <th>count</th>\n",
       "      <th>sum</th>\n",
       "    </tr>\n",
       "  </thead>\n",
       "  <tbody>\n",
       "    <tr>\n",
       "      <th>count</th>\n",
       "      <td>66949.000000</td>\n",
       "      <td>66949.000000</td>\n",
       "    </tr>\n",
       "    <tr>\n",
       "      <th>mean</th>\n",
       "      <td>49.832514</td>\n",
       "      <td>12733.677262</td>\n",
       "    </tr>\n",
       "    <tr>\n",
       "      <th>std</th>\n",
       "      <td>7.654471</td>\n",
       "      <td>17679.939268</td>\n",
       "    </tr>\n",
       "    <tr>\n",
       "      <th>min</th>\n",
       "      <td>1.000000</td>\n",
       "      <td>1.000000</td>\n",
       "    </tr>\n",
       "    <tr>\n",
       "      <th>25%</th>\n",
       "      <td>47.000000</td>\n",
       "      <td>3306.000000</td>\n",
       "    </tr>\n",
       "    <tr>\n",
       "      <th>50%</th>\n",
       "      <td>49.000000</td>\n",
       "      <td>7716.000000</td>\n",
       "    </tr>\n",
       "    <tr>\n",
       "      <th>75%</th>\n",
       "      <td>52.000000</td>\n",
       "      <td>15604.000000</td>\n",
       "    </tr>\n",
       "    <tr>\n",
       "      <th>max</th>\n",
       "      <td>166.000000</td>\n",
       "      <td>420950.000000</td>\n",
       "    </tr>\n",
       "  </tbody>\n",
       "</table>\n",
       "</div>"
      ],
      "text/plain": [
       "             Artist          Plays\n",
       "              count            sum\n",
       "count  66949.000000   66949.000000\n",
       "mean      49.832514   12733.677262\n",
       "std        7.654471   17679.939268\n",
       "min        1.000000       1.000000\n",
       "25%       47.000000    3306.000000\n",
       "50%       49.000000    7716.000000\n",
       "75%       52.000000   15604.000000\n",
       "max      166.000000  420950.000000"
      ]
     },
     "execution_count": 5,
     "metadata": {},
     "output_type": "execute_result"
    }
   ],
   "source": [
    "user_cnt = df.User_ID.nunique()\n",
    "print ('No. Users: {}'.format(user_cnt))\n",
    "\n",
    "df.groupby('User_ID').agg({'Artist': ['count'], 'Plays': ['sum']})\\\n",
    "                     .describe()"
   ]
  },
  {
   "cell_type": "code",
   "execution_count": 6,
   "id": "ebcdbac0",
   "metadata": {},
   "outputs": [],
   "source": [
    "def createLookup(values):\n",
    "    value_ids = [i for i in range (0, len(values))]\n",
    "    value_to_idx = {values[i]: value_ids[i] for i in range(len(values))}\n",
    "    idx_to_value = {value_ids[i]: values[i] for i in range(len(value_ids))}\n",
    "    \n",
    "    return value_to_idx, idx_to_value\n",
    "\n",
    "## Create User ID lookup values and filter to top 1500 users ##\n",
    "users = df.groupby('User_ID')['Plays'].sum()\\\n",
    "          .sort_values(ascending=False).reset_index().User_ID\n",
    "\n",
    "user_to_idx, idx_to_user = createLookup(users)"
   ]
  },
  {
   "cell_type": "code",
   "execution_count": 7,
   "id": "b603f296",
   "metadata": {},
   "outputs": [
    {
     "name": "stdout",
     "output_type": "stream",
     "text": [
      "No. Users: 10000\n"
     ]
    }
   ],
   "source": [
    "df['U_ID'] = df.User_ID.apply(lambda x: user_to_idx[x])                              \n",
    "df = df[df['U_ID'] < 10000]\n",
    "user_cnt = df.User_ID.nunique()\n",
    "\n",
    "print ('No. Users: {}'.format(user_cnt))"
   ]
  },
  {
   "cell_type": "code",
   "execution_count": 8,
   "id": "4190eb61",
   "metadata": {},
   "outputs": [
    {
     "name": "stdout",
     "output_type": "stream",
     "text": [
      "No. Artists: 38553\n"
     ]
    },
    {
     "data": {
      "text/html": [
       "<div>\n",
       "<style scoped>\n",
       "    .dataframe tbody tr th:only-of-type {\n",
       "        vertical-align: middle;\n",
       "    }\n",
       "\n",
       "    .dataframe tbody tr th {\n",
       "        vertical-align: top;\n",
       "    }\n",
       "\n",
       "    .dataframe thead tr th {\n",
       "        text-align: left;\n",
       "    }\n",
       "</style>\n",
       "<table border=\"1\" class=\"dataframe\">\n",
       "  <thead>\n",
       "    <tr>\n",
       "      <th></th>\n",
       "      <th>User_ID</th>\n",
       "      <th>Plays</th>\n",
       "    </tr>\n",
       "    <tr>\n",
       "      <th></th>\n",
       "      <th>count</th>\n",
       "      <th>sum</th>\n",
       "    </tr>\n",
       "  </thead>\n",
       "  <tbody>\n",
       "    <tr>\n",
       "      <th>count</th>\n",
       "      <td>38553.000000</td>\n",
       "      <td>3.855300e+04</td>\n",
       "    </tr>\n",
       "    <tr>\n",
       "      <th>mean</th>\n",
       "      <td>13.243561</td>\n",
       "      <td>1.104039e+04</td>\n",
       "    </tr>\n",
       "    <tr>\n",
       "      <th>std</th>\n",
       "      <td>67.029329</td>\n",
       "      <td>6.758196e+04</td>\n",
       "    </tr>\n",
       "    <tr>\n",
       "      <th>min</th>\n",
       "      <td>1.000000</td>\n",
       "      <td>1.000000e+00</td>\n",
       "    </tr>\n",
       "    <tr>\n",
       "      <th>25%</th>\n",
       "      <td>1.000000</td>\n",
       "      <td>4.000000e+02</td>\n",
       "    </tr>\n",
       "    <tr>\n",
       "      <th>50%</th>\n",
       "      <td>1.000000</td>\n",
       "      <td>9.640000e+02</td>\n",
       "    </tr>\n",
       "    <tr>\n",
       "      <th>75%</th>\n",
       "      <td>4.000000</td>\n",
       "      <td>3.151000e+03</td>\n",
       "    </tr>\n",
       "    <tr>\n",
       "      <th>max</th>\n",
       "      <td>3485.000000</td>\n",
       "      <td>5.000745e+06</td>\n",
       "    </tr>\n",
       "  </tbody>\n",
       "</table>\n",
       "</div>"
      ],
      "text/plain": [
       "            User_ID         Plays\n",
       "              count           sum\n",
       "count  38553.000000  3.855300e+04\n",
       "mean      13.243561  1.104039e+04\n",
       "std       67.029329  6.758196e+04\n",
       "min        1.000000  1.000000e+00\n",
       "25%        1.000000  4.000000e+02\n",
       "50%        1.000000  9.640000e+02\n",
       "75%        4.000000  3.151000e+03\n",
       "max     3485.000000  5.000745e+06"
      ]
     },
     "execution_count": 8,
     "metadata": {},
     "output_type": "execute_result"
    }
   ],
   "source": [
    "artist_cnt = df.Artist.nunique()\n",
    "print ('No. Artists: {}'.format(artist_cnt))\n",
    "\n",
    "ptiles = [x/100 for x in range(90,100)]\n",
    "df.groupby('Artist').agg({'User_ID': ['count'], 'Plays': ['sum']})\\\n",
    "                    .describe()"
   ]
  },
  {
   "cell_type": "code",
   "execution_count": 9,
   "id": "2c895f5a",
   "metadata": {},
   "outputs": [],
   "source": [
    "## Create Artist Looksups ## \n",
    "artists = df.groupby('Artist')['Plays'].sum()\\\n",
    "            .sort_values(ascending=False).reset_index().Artist\n",
    "artist_to_idx, idx_to_artist = createLookup(artists)"
   ]
  },
  {
   "cell_type": "code",
   "execution_count": 10,
   "id": "03225a6a",
   "metadata": {},
   "outputs": [
    {
     "name": "stdout",
     "output_type": "stream",
     "text": [
      "No. Artists: 1000\n"
     ]
    }
   ],
   "source": [
    "## Filter Data to Top 1000 artists ##\n",
    "df['A_ID'] = df.Artist.apply(lambda x: artist_to_idx[x])\n",
    "df = df[df['A_ID'] < 1000]\n",
    "\n",
    "artist_cnt = df.Artist.nunique()\n",
    "print ('No. Artists: {}'.format(artist_cnt))"
   ]
  },
  {
   "cell_type": "code",
   "execution_count": 11,
   "id": "8f5c18be",
   "metadata": {},
   "outputs": [],
   "source": [
    "## Pivot User/Artist data in sparse matrix (artists x users) ##\n",
    "df = df.groupby(['U_ID', 'A_ID'])[['Plays']].sum().reset_index()\n",
    "pivoted_df = df.pivot(index='A_ID', columns='U_ID', values = 'Plays').fillna(0)"
   ]
  },
  {
   "cell_type": "code",
   "execution_count": 12,
   "id": "71933c5c",
   "metadata": {},
   "outputs": [],
   "source": [
    "from sklearn.preprocessing import MinMaxScaler\n",
    "\n",
    "def minmax(df):\n",
    "    scaler = MinMaxScaler()\n",
    "    scaler.fit(pivoted_df)\n",
    "    scaled_df = scaler.transform(pivoted_df)\n",
    "    return scaled_df\n",
    "\n",
    "artist_by_user = minmax(pivoted_df)"
   ]
  },
  {
   "cell_type": "code",
   "execution_count": 13,
   "id": "9557a0bc",
   "metadata": {},
   "outputs": [],
   "source": [
    "with open('./datasources/artist_to_idx.pkl', 'wb') as f:\n",
    "    pickle.dump(artist_to_idx, f)\n",
    "with open('./datasources/user_to_idx.pkl', 'wb') as f:\n",
    "    pickle.dump(user_to_idx, f)\n",
    "with open('./datasources/idx_to_artist.pkl', 'wb') as f:\n",
    "    pickle.dump(idx_to_artist, f)\n",
    "with open('./datasources/idx_to_user.pkl', 'wb') as f:\n",
    "    pickle.dump(idx_to_user, f)\n",
    "    \n",
    "import scipy\n",
    "A_U_sparse = scipy.sparse.csc_matrix(artist_by_user)\n",
    "\n",
    "scipy.sparse.save_npz('./data/artist_user_mtrx.npz', A_U_sparse)"
   ]
  },
  {
   "cell_type": "code",
   "execution_count": null,
   "id": "40942a2b",
   "metadata": {},
   "outputs": [],
   "source": [
    "## Clean up ##\n",
    "# ! rm -rf /home/ec2-user/SageMaker/artist_recommendation_KNN/datasources/processed"
   ]
  }
 ],
 "metadata": {
  "kernelspec": {
   "display_name": "conda_amazonei_mxnet_p36",
   "language": "python",
   "name": "conda_amazonei_mxnet_p36"
  },
  "language_info": {
   "codemirror_mode": {
    "name": "ipython",
    "version": 3
   },
   "file_extension": ".py",
   "mimetype": "text/x-python",
   "name": "python",
   "nbconvert_exporter": "python",
   "pygments_lexer": "ipython3",
   "version": "3.6.13"
  }
 },
 "nbformat": 4,
 "nbformat_minor": 5
}
