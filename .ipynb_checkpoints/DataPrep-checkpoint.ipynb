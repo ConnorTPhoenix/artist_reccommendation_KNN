{
 "cells": [
  {
   "cell_type": "code",
   "execution_count": 1,
   "id": "98d1b463",
   "metadata": {},
   "outputs": [],
   "source": [
    "import pandas as pd\n",
    "import pickle\n",
    "import matplotlib.pyplot as plt\n",
    "from scipy.sparse import lil_matrix"
   ]
  },
  {
   "cell_type": "code",
   "execution_count": 2,
   "id": "1df94a74",
   "metadata": {},
   "outputs": [],
   "source": [
    "df = pd.read_csv('./datasources/processed/user_artist_plays.csv')"
   ]
  },
  {
   "cell_type": "code",
   "execution_count": 3,
   "id": "1467ce6c",
   "metadata": {},
   "outputs": [
    {
     "data": {
      "text/plain": [
       "User_ID     0\n",
       "Artist     35\n",
       "Plays       0\n",
       "dtype: int64"
      ]
     },
     "execution_count": 3,
     "metadata": {},
     "output_type": "execute_result"
    }
   ],
   "source": [
    "df.isnull().sum()"
   ]
  },
  {
   "cell_type": "code",
   "execution_count": 4,
   "id": "01bef00a",
   "metadata": {},
   "outputs": [],
   "source": [
    "df = df.dropna()"
   ]
  },
  {
   "cell_type": "code",
   "execution_count": 5,
   "id": "1edcbf0e",
   "metadata": {},
   "outputs": [
    {
     "name": "stdout",
     "output_type": "stream",
     "text": [
      "No. Users: 66949\n"
     ]
    },
    {
     "data": {
      "text/html": [
       "<div>\n",
       "<style scoped>\n",
       "    .dataframe tbody tr th:only-of-type {\n",
       "        vertical-align: middle;\n",
       "    }\n",
       "\n",
       "    .dataframe tbody tr th {\n",
       "        vertical-align: top;\n",
       "    }\n",
       "\n",
       "    .dataframe thead tr th {\n",
       "        text-align: left;\n",
       "    }\n",
       "</style>\n",
       "<table border=\"1\" class=\"dataframe\">\n",
       "  <thead>\n",
       "    <tr>\n",
       "      <th></th>\n",
       "      <th>Artist</th>\n",
       "      <th>Plays</th>\n",
       "    </tr>\n",
       "    <tr>\n",
       "      <th></th>\n",
       "      <th>count</th>\n",
       "      <th>sum</th>\n",
       "    </tr>\n",
       "  </thead>\n",
       "  <tbody>\n",
       "    <tr>\n",
       "      <th>count</th>\n",
       "      <td>66949.000000</td>\n",
       "      <td>66949.000000</td>\n",
       "    </tr>\n",
       "    <tr>\n",
       "      <th>mean</th>\n",
       "      <td>49.832514</td>\n",
       "      <td>12733.677262</td>\n",
       "    </tr>\n",
       "    <tr>\n",
       "      <th>std</th>\n",
       "      <td>7.654471</td>\n",
       "      <td>17679.939268</td>\n",
       "    </tr>\n",
       "    <tr>\n",
       "      <th>min</th>\n",
       "      <td>1.000000</td>\n",
       "      <td>1.000000</td>\n",
       "    </tr>\n",
       "    <tr>\n",
       "      <th>25%</th>\n",
       "      <td>47.000000</td>\n",
       "      <td>3306.000000</td>\n",
       "    </tr>\n",
       "    <tr>\n",
       "      <th>50%</th>\n",
       "      <td>49.000000</td>\n",
       "      <td>7716.000000</td>\n",
       "    </tr>\n",
       "    <tr>\n",
       "      <th>75%</th>\n",
       "      <td>52.000000</td>\n",
       "      <td>15604.000000</td>\n",
       "    </tr>\n",
       "    <tr>\n",
       "      <th>max</th>\n",
       "      <td>166.000000</td>\n",
       "      <td>420950.000000</td>\n",
       "    </tr>\n",
       "  </tbody>\n",
       "</table>\n",
       "</div>"
      ],
      "text/plain": [
       "             Artist          Plays\n",
       "              count            sum\n",
       "count  66949.000000   66949.000000\n",
       "mean      49.832514   12733.677262\n",
       "std        7.654471   17679.939268\n",
       "min        1.000000       1.000000\n",
       "25%       47.000000    3306.000000\n",
       "50%       49.000000    7716.000000\n",
       "75%       52.000000   15604.000000\n",
       "max      166.000000  420950.000000"
      ]
     },
     "execution_count": 5,
     "metadata": {},
     "output_type": "execute_result"
    }
   ],
   "source": [
    "user_cnt = df.User_ID.nunique()\n",
    "print ('No. Users: {}'.format(user_cnt))\n",
    "\n",
    "df.groupby('User_ID').agg({'Artist': ['count'], 'Plays': ['sum']})\\\n",
    "                     .describe()"
   ]
  },
  {
   "cell_type": "code",
   "execution_count": 6,
   "id": "51d88ca4",
   "metadata": {},
   "outputs": [],
   "source": [
    "def createLookup(values):\n",
    "    value_ids = [i for i in range (0, len(values))]\n",
    "    value_to_idx = {values[i]: value_ids[i] for i in range(len(values))}\n",
    "    idx_to_value = {value_ids[i]: values[i] for i in range(len(value_ids))}\n",
    "    \n",
    "    return value_to_idx, idx_to_value\n",
    "\n",
    "## Create User ID lookup values and filter to top 1500 users ##\n",
    "users = df.groupby('User_ID')['Plays'].sum()\\\n",
    "          .sort_values(ascending=False).reset_index().User_ID\n",
    "\n",
    "user_to_idx, idx_to_user = createLookup(users)"
   ]
  },
  {
   "cell_type": "code",
   "execution_count": 7,
   "id": "df0c5473",
   "metadata": {},
   "outputs": [
    {
     "name": "stdout",
     "output_type": "stream",
     "text": [
      "No. Users: 1500\n"
     ]
    }
   ],
   "source": [
    "df['U_ID'] = df.User_ID.apply(lambda x: user_to_idx[x])                              \n",
    "df = df[df['U_ID'] < 1500]\n",
    "user_cnt = df.User_ID.nunique()\n",
    "\n",
    "print ('No. Users: {}'.format(user_cnt))"
   ]
  },
  {
   "cell_type": "code",
   "execution_count": 8,
   "id": "54671596",
   "metadata": {},
   "outputs": [
    {
     "name": "stdout",
     "output_type": "stream",
     "text": [
      "No. Artists: 14403\n"
     ]
    },
    {
     "data": {
      "text/html": [
       "<div>\n",
       "<style scoped>\n",
       "    .dataframe tbody tr th:only-of-type {\n",
       "        vertical-align: middle;\n",
       "    }\n",
       "\n",
       "    .dataframe tbody tr th {\n",
       "        vertical-align: top;\n",
       "    }\n",
       "\n",
       "    .dataframe thead tr th {\n",
       "        text-align: left;\n",
       "    }\n",
       "</style>\n",
       "<table border=\"1\" class=\"dataframe\">\n",
       "  <thead>\n",
       "    <tr>\n",
       "      <th></th>\n",
       "      <th>User_ID</th>\n",
       "      <th>Plays</th>\n",
       "    </tr>\n",
       "    <tr>\n",
       "      <th></th>\n",
       "      <th>count</th>\n",
       "      <th>sum</th>\n",
       "    </tr>\n",
       "  </thead>\n",
       "  <tbody>\n",
       "    <tr>\n",
       "      <th>count</th>\n",
       "      <td>14403.000000</td>\n",
       "      <td>1.440300e+04</td>\n",
       "    </tr>\n",
       "    <tr>\n",
       "      <th>mean</th>\n",
       "      <td>5.317573</td>\n",
       "      <td>1.002578e+04</td>\n",
       "    </tr>\n",
       "    <tr>\n",
       "      <th>std</th>\n",
       "      <td>15.304708</td>\n",
       "      <td>3.656171e+04</td>\n",
       "    </tr>\n",
       "    <tr>\n",
       "      <th>min</th>\n",
       "      <td>1.000000</td>\n",
       "      <td>1.000000e+00</td>\n",
       "    </tr>\n",
       "    <tr>\n",
       "      <th>25%</th>\n",
       "      <td>1.000000</td>\n",
       "      <td>9.085000e+02</td>\n",
       "    </tr>\n",
       "    <tr>\n",
       "      <th>50%</th>\n",
       "      <td>1.000000</td>\n",
       "      <td>1.888000e+03</td>\n",
       "    </tr>\n",
       "    <tr>\n",
       "      <th>75%</th>\n",
       "      <td>3.000000</td>\n",
       "      <td>5.471000e+03</td>\n",
       "    </tr>\n",
       "    <tr>\n",
       "      <th>max</th>\n",
       "      <td>436.000000</td>\n",
       "      <td>1.483865e+06</td>\n",
       "    </tr>\n",
       "  </tbody>\n",
       "</table>\n",
       "</div>"
      ],
      "text/plain": [
       "            User_ID         Plays\n",
       "              count           sum\n",
       "count  14403.000000  1.440300e+04\n",
       "mean       5.317573  1.002578e+04\n",
       "std       15.304708  3.656171e+04\n",
       "min        1.000000  1.000000e+00\n",
       "25%        1.000000  9.085000e+02\n",
       "50%        1.000000  1.888000e+03\n",
       "75%        3.000000  5.471000e+03\n",
       "max      436.000000  1.483865e+06"
      ]
     },
     "execution_count": 8,
     "metadata": {},
     "output_type": "execute_result"
    }
   ],
   "source": [
    "artist_cnt = df.Artist.nunique()\n",
    "print ('No. Artists: {}'.format(artist_cnt))\n",
    "\n",
    "ptiles = [x/100 for x in range(90,100)]\n",
    "df.groupby('Artist').agg({'User_ID': ['count'], 'Plays': ['sum']})\\\n",
    "                    .describe()"
   ]
  },
  {
   "cell_type": "code",
   "execution_count": 9,
   "id": "7021e926",
   "metadata": {},
   "outputs": [],
   "source": [
    "## Create Artist Looksups ## \n",
    "artists = df.groupby('Artist')['Plays'].sum()\\\n",
    "            .sort_values(ascending=False).reset_index().Artist\n",
    "artist_to_idx, idx_to_artist = createLookup(artists)"
   ]
  },
  {
   "cell_type": "code",
   "execution_count": 10,
   "id": "b1074e61",
   "metadata": {},
   "outputs": [
    {
     "name": "stdout",
     "output_type": "stream",
     "text": [
      "No. Artists: 1000\n"
     ]
    }
   ],
   "source": [
    "## Filter Data to Top 1000 artists ##\n",
    "df['A_ID'] = df.Artist.apply(lambda x: artist_to_idx[x])\n",
    "df = df[df['A_ID'] < 1000]\n",
    "\n",
    "artist_cnt = df.Artist.nunique()\n",
    "print ('No. Artists: {}'.format(artist_cnt))"
   ]
  },
  {
   "cell_type": "code",
   "execution_count": 11,
   "id": "41b995f5",
   "metadata": {},
   "outputs": [],
   "source": [
    "## Pivot User/Artist data in sparse matrix (artists x users) ##\n",
    "df = df.groupby(['U_ID', 'A_ID'])[['Plays']].sum().reset_index()\n",
    "pivoted_df = df.pivot(index='A_ID', columns='U_ID', values = 'Plays').fillna(0)"
   ]
  },
  {
   "cell_type": "code",
   "execution_count": 12,
   "id": "c2ae456f",
   "metadata": {},
   "outputs": [],
   "source": [
    "from sklearn.preprocessing import MinMaxScaler\n",
    "\n",
    "def minmax(df):\n",
    "    scaler = MinMaxScaler()\n",
    "    scaler.fit(pivoted_df)\n",
    "    scaled_df = scaler.transform(pivoted_df)\n",
    "    return scaled_df\n",
    "\n",
    "X = minmax(pivoted_df)"
   ]
  },
  {
   "cell_type": "code",
   "execution_count": 13,
   "id": "e420a155",
   "metadata": {},
   "outputs": [],
   "source": [
    "with open('./datasources/artist_to_idx.pkl', 'wb') as f:\n",
    "    pickle.dump(artist_to_idx, f)\n",
    "with open('./datasources/user_to_idx.pkl', 'wb') as f:\n",
    "    pickle.dump(user_to_idx, f)\n",
    "with open('./datasources/idx_to_artist.pkl', 'wb') as f:\n",
    "    pickle.dump(idx_to_artist, f)\n",
    "with open('./datasources/idx_to_user.pkl', 'wb') as f:\n",
    "    pickle.dump(idx_to_user, f)\n",
    "    \n",
    "import scipy\n",
    "X_sparse = scipy.sparse.csc_matrix(X)\n",
    "scipy.sparse.save_npz('./data/artist_matrx.npz', X_sparse)"
   ]
  },
  {
   "cell_type": "code",
   "execution_count": 14,
   "id": "bdf53367",
   "metadata": {},
   "outputs": [],
   "source": [
    "## Clean up ##\n",
    "! rm -rf /home/ec2-user/SageMaker/artist_recommendation_KNN/datasources/processed"
   ]
  },
  {
   "cell_type": "code",
   "execution_count": null,
   "id": "2d5ce0d5",
   "metadata": {},
   "outputs": [],
   "source": []
  }
 ],
 "metadata": {
  "kernelspec": {
   "display_name": "conda_amazonei_mxnet_p36",
   "language": "python",
   "name": "conda_amazonei_mxnet_p36"
  },
  "language_info": {
   "codemirror_mode": {
    "name": "ipython",
    "version": 3
   },
   "file_extension": ".py",
   "mimetype": "text/x-python",
   "name": "python",
   "nbconvert_exporter": "python",
   "pygments_lexer": "ipython3",
   "version": "3.6.13"
  }
 },
 "nbformat": 4,
 "nbformat_minor": 5
}
