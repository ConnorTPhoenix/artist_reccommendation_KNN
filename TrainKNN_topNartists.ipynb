{
 "cells": [
  {
   "cell_type": "code",
   "execution_count": 1,
   "id": "1509bec6",
   "metadata": {},
   "outputs": [],
   "source": [
    "## Create Sagemaker Session and Get Execution Role ##\n",
    "import sagemaker\n",
    "\n",
    "sagemaker_session = sagemaker.Session()\n",
    "role = sagemaker.get_execution_role()"
   ]
  },
  {
   "cell_type": "code",
   "execution_count": 2,
   "id": "41c5a00f",
   "metadata": {},
   "outputs": [],
   "source": [
    "## Upload Training Data to s3 Bucket ##\n",
    "\n",
    "bucket = sagemaker_session.default_bucket()\n",
    "\n",
    "data_dir = 'data' \n",
    "prefix = 'rcmdKNN'\n",
    "input_data = sagemaker_session.upload_data(data_dir, key_prefix=prefix)"
   ]
  },
  {
   "cell_type": "code",
   "execution_count": 3,
   "id": "59a6ace7",
   "metadata": {},
   "outputs": [
    {
     "name": "stderr",
     "output_type": "stream",
     "text": [
      "train_instance_type has been renamed in sagemaker>=2.\n",
      "See: https://sagemaker.readthedocs.io/en/stable/v2.html for details.\n",
      "train_instance_count has been renamed in sagemaker>=2.\n",
      "See: https://sagemaker.readthedocs.io/en/stable/v2.html for details.\n",
      "train_instance_count has been renamed in sagemaker>=2.\n",
      "See: https://sagemaker.readthedocs.io/en/stable/v2.html for details.\n",
      "train_instance_type has been renamed in sagemaker>=2.\n",
      "See: https://sagemaker.readthedocs.io/en/stable/v2.html for details.\n"
     ]
    }
   ],
   "source": [
    "## Instantiate Estimator Object ##\n",
    "\n",
    "from sagemaker.sklearn.estimator import SKLearn\n",
    "\n",
    "estimator = SKLearn(entry_point='train.py',\n",
    "                    framework_version='0.23-1',\n",
    "                    role=role,\n",
    "                    train_instance_count=1,\n",
    "                    train_instance_type='ml.c4.xlarge',\n",
    "                    py_version='py3',\n",
    "                    source_dir='source',\n",
    "                    image_uri=None,\n",
    "                    hyperparameters = {'n_neighbors':101,\n",
    "                                       'metric':'cosine',\n",
    "                                       'algorithm':'brute'})"
   ]
  },
  {
   "cell_type": "code",
   "execution_count": 4,
   "id": "51111592",
   "metadata": {},
   "outputs": [
    {
     "name": "stdout",
     "output_type": "stream",
     "text": [
      "2021-12-15 15:18:12 Starting - Starting the training job...\n",
      "2021-12-15 15:18:40 Starting - Launching requested ML instancesProfilerReport-1639581492: InProgress\n",
      "......\n",
      "2021-12-15 15:19:41 Starting - Preparing the instances for training.........\n",
      "2021-12-15 15:21:05 Downloading - Downloading input data...\n",
      "2021-12-15 15:21:41 Training - Downloading the training image...\n",
      "2021-12-15 15:22:14 Uploading - Uploading generated training model\u001b[34m2021-12-15 15:22:05,771 sagemaker-containers INFO     Imported framework sagemaker_sklearn_container.training\u001b[0m\n",
      "\u001b[34m2021-12-15 15:22:05,773 sagemaker-training-toolkit INFO     No GPUs detected (normal if no gpus installed)\u001b[0m\n",
      "\u001b[34m2021-12-15 15:22:05,785 sagemaker_sklearn_container.training INFO     Invoking user training script.\u001b[0m\n",
      "\u001b[34m2021-12-15 15:22:06,891 sagemaker-training-toolkit INFO     No GPUs detected (normal if no gpus installed)\u001b[0m\n",
      "\u001b[34m2021-12-15 15:22:07,509 sagemaker-training-toolkit INFO     No GPUs detected (normal if no gpus installed)\u001b[0m\n",
      "\u001b[34m2021-12-15 15:22:07,523 sagemaker-training-toolkit INFO     No GPUs detected (normal if no gpus installed)\u001b[0m\n",
      "\u001b[34m2021-12-15 15:22:07,532 sagemaker-training-toolkit INFO     Invoking user script\u001b[0m\n",
      "\u001b[34mTraining Env:\u001b[0m\n",
      "\u001b[34m{\n",
      "    \"additional_framework_parameters\": {},\n",
      "    \"channel_input_dirs\": {\n",
      "        \"train\": \"/opt/ml/input/data/train\"\n",
      "    },\n",
      "    \"current_host\": \"algo-1\",\n",
      "    \"framework_module\": \"sagemaker_sklearn_container.training:main\",\n",
      "    \"hosts\": [\n",
      "        \"algo-1\"\n",
      "    ],\n",
      "    \"hyperparameters\": {\n",
      "        \"metric\": \"cosine\",\n",
      "        \"n_neighbors\": 101,\n",
      "        \"algorithm\": \"brute\"\n",
      "    },\n",
      "    \"input_config_dir\": \"/opt/ml/input/config\",\n",
      "    \"input_data_config\": {\n",
      "        \"train\": {\n",
      "            \"TrainingInputMode\": \"File\",\n",
      "            \"S3DistributionType\": \"FullyReplicated\",\n",
      "            \"RecordWrapperType\": \"None\"\n",
      "        }\n",
      "    },\n",
      "    \"input_dir\": \"/opt/ml/input\",\n",
      "    \"is_master\": true,\n",
      "    \"job_name\": \"sagemaker-scikit-learn-2021-12-15-15-18-12-550\",\n",
      "    \"log_level\": 20,\n",
      "    \"master_hostname\": \"algo-1\",\n",
      "    \"model_dir\": \"/opt/ml/model\",\n",
      "    \"module_dir\": \"s3://sagemaker-us-east-1-345989147144/sagemaker-scikit-learn-2021-12-15-15-18-12-550/source/sourcedir.tar.gz\",\n",
      "    \"module_name\": \"train\",\n",
      "    \"network_interface_name\": \"eth0\",\n",
      "    \"num_cpus\": 4,\n",
      "    \"num_gpus\": 0,\n",
      "    \"output_data_dir\": \"/opt/ml/output/data\",\n",
      "    \"output_dir\": \"/opt/ml/output\",\n",
      "    \"output_intermediate_dir\": \"/opt/ml/output/intermediate\",\n",
      "    \"resource_config\": {\n",
      "        \"current_host\": \"algo-1\",\n",
      "        \"hosts\": [\n",
      "            \"algo-1\"\n",
      "        ],\n",
      "        \"network_interface_name\": \"eth0\"\n",
      "    },\n",
      "    \"user_entry_point\": \"train.py\"\u001b[0m\n",
      "\u001b[34m}\u001b[0m\n",
      "\u001b[34mEnvironment variables:\u001b[0m\n",
      "\u001b[34mSM_HOSTS=[\"algo-1\"]\u001b[0m\n",
      "\u001b[34mSM_NETWORK_INTERFACE_NAME=eth0\u001b[0m\n",
      "\u001b[34mSM_HPS={\"algorithm\":\"brute\",\"metric\":\"cosine\",\"n_neighbors\":101}\u001b[0m\n",
      "\u001b[34mSM_USER_ENTRY_POINT=train.py\u001b[0m\n",
      "\u001b[34mSM_FRAMEWORK_PARAMS={}\u001b[0m\n",
      "\u001b[34mSM_RESOURCE_CONFIG={\"current_host\":\"algo-1\",\"hosts\":[\"algo-1\"],\"network_interface_name\":\"eth0\"}\u001b[0m\n",
      "\u001b[34mSM_INPUT_DATA_CONFIG={\"train\":{\"RecordWrapperType\":\"None\",\"S3DistributionType\":\"FullyReplicated\",\"TrainingInputMode\":\"File\"}}\u001b[0m\n",
      "\u001b[34mSM_OUTPUT_DATA_DIR=/opt/ml/output/data\u001b[0m\n",
      "\u001b[34mSM_CHANNELS=[\"train\"]\u001b[0m\n",
      "\u001b[34mSM_CURRENT_HOST=algo-1\u001b[0m\n",
      "\u001b[34mSM_MODULE_NAME=train\u001b[0m\n",
      "\u001b[34mSM_LOG_LEVEL=20\u001b[0m\n",
      "\u001b[34mSM_FRAMEWORK_MODULE=sagemaker_sklearn_container.training:main\u001b[0m\n",
      "\u001b[34mSM_INPUT_DIR=/opt/ml/input\u001b[0m\n",
      "\u001b[34mSM_INPUT_CONFIG_DIR=/opt/ml/input/config\u001b[0m\n",
      "\u001b[34mSM_OUTPUT_DIR=/opt/ml/output\u001b[0m\n",
      "\u001b[34mSM_NUM_CPUS=4\u001b[0m\n",
      "\u001b[34mSM_NUM_GPUS=0\u001b[0m\n",
      "\u001b[34mSM_MODEL_DIR=/opt/ml/model\u001b[0m\n",
      "\u001b[34mSM_MODULE_DIR=s3://sagemaker-us-east-1-345989147144/sagemaker-scikit-learn-2021-12-15-15-18-12-550/source/sourcedir.tar.gz\u001b[0m\n",
      "\u001b[34mSM_TRAINING_ENV={\"additional_framework_parameters\":{},\"channel_input_dirs\":{\"train\":\"/opt/ml/input/data/train\"},\"current_host\":\"algo-1\",\"framework_module\":\"sagemaker_sklearn_container.training:main\",\"hosts\":[\"algo-1\"],\"hyperparameters\":{\"algorithm\":\"brute\",\"metric\":\"cosine\",\"n_neighbors\":101},\"input_config_dir\":\"/opt/ml/input/config\",\"input_data_config\":{\"train\":{\"RecordWrapperType\":\"None\",\"S3DistributionType\":\"FullyReplicated\",\"TrainingInputMode\":\"File\"}},\"input_dir\":\"/opt/ml/input\",\"is_master\":true,\"job_name\":\"sagemaker-scikit-learn-2021-12-15-15-18-12-550\",\"log_level\":20,\"master_hostname\":\"algo-1\",\"model_dir\":\"/opt/ml/model\",\"module_dir\":\"s3://sagemaker-us-east-1-345989147144/sagemaker-scikit-learn-2021-12-15-15-18-12-550/source/sourcedir.tar.gz\",\"module_name\":\"train\",\"network_interface_name\":\"eth0\",\"num_cpus\":4,\"num_gpus\":0,\"output_data_dir\":\"/opt/ml/output/data\",\"output_dir\":\"/opt/ml/output\",\"output_intermediate_dir\":\"/opt/ml/output/intermediate\",\"resource_config\":{\"current_host\":\"algo-1\",\"hosts\":[\"algo-1\"],\"network_interface_name\":\"eth0\"},\"user_entry_point\":\"train.py\"}\u001b[0m\n",
      "\u001b[34mSM_USER_ARGS=[\"--algorithm\",\"brute\",\"--metric\",\"cosine\",\"--n_neighbors\",\"101\"]\u001b[0m\n",
      "\u001b[34mSM_OUTPUT_INTERMEDIATE_DIR=/opt/ml/output/intermediate\u001b[0m\n",
      "\u001b[34mSM_CHANNEL_TRAIN=/opt/ml/input/data/train\u001b[0m\n",
      "\u001b[34mSM_HP_METRIC=cosine\u001b[0m\n",
      "\u001b[34mSM_HP_N_NEIGHBORS=101\u001b[0m\n",
      "\u001b[34mSM_HP_ALGORITHM=brute\u001b[0m\n",
      "\u001b[34mPYTHONPATH=/opt/ml/code:/miniconda3/bin:/miniconda3/lib/python37.zip:/miniconda3/lib/python3.7:/miniconda3/lib/python3.7/lib-dynload:/miniconda3/lib/python3.7/site-packages\u001b[0m\n",
      "\u001b[34mInvoking script with the following command:\u001b[0m\n",
      "\u001b[34m/miniconda3/bin/python train.py --algorithm brute --metric cosine --n_neighbors 101\u001b[0m\n",
      "\u001b[34m2021-12-15 15:22:11,159 sagemaker-containers INFO     Reporting training SUCCESS\u001b[0m\n",
      "\n",
      "2021-12-15 15:22:42 Completed - Training job completed\n",
      "Training seconds: 76\n",
      "Billable seconds: 76\n"
     ]
    }
   ],
   "source": [
    "## Train the estimator ##\n",
    "estimator.fit({'train': input_data})"
   ]
  },
  {
   "cell_type": "code",
   "execution_count": 5,
   "id": "73c63ab7",
   "metadata": {},
   "outputs": [],
   "source": [
    "## Define new model object pointing to custom inference code ##\n",
    "\n",
    "from sagemaker.sklearn import SKLearnModel\n",
    "\n",
    "sklearn_model = SKLearnModel(model_data=estimator.model_data,\n",
    "                             role=role,\n",
    "                             entry_point=\"predict.py\",\n",
    "                             source_dir='source',\n",
    "                             framework_version='0.23-1')"
   ]
  },
  {
   "cell_type": "code",
   "execution_count": 6,
   "id": "332c8db5",
   "metadata": {},
   "outputs": [
    {
     "name": "stdout",
     "output_type": "stream",
     "text": [
      "---------!"
     ]
    }
   ],
   "source": [
    "## Deploy the estimator ##\n",
    "\n",
    "predictor = sklearn_model.deploy(instance_type=\"ml.m4.xlarge\", initial_instance_count=1)"
   ]
  },
  {
   "cell_type": "code",
   "execution_count": 7,
   "id": "af4b4b34",
   "metadata": {},
   "outputs": [],
   "source": [
    "## Load in training data and mapping files ##\n",
    "import scipy\n",
    "import numpy as np\n",
    "import pickle\n",
    "\n",
    "train_data = scipy.sparse.load_npz('./data/artist_user_mtrx.npz')\n",
    "train_data = np.array(train_data.todense())\n",
    "\n",
    "with open('./datasources/artist_to_idx.pkl', 'rb') as f:\n",
    "    artist_to_idx = pickle.load(f)\n",
    "    \n",
    "with open('./datasources/idx_to_artist.pkl', 'rb') as f:\n",
    "    idx_to_artist = pickle.load(f)"
   ]
  },
  {
   "cell_type": "code",
   "execution_count": 8,
   "id": "8ae9beba",
   "metadata": {},
   "outputs": [],
   "source": [
    "## Define utility functions to process input/output ##\n",
    "\n",
    "def process_input(artists, input_data):\n",
    "    artist_ids = [artist_to_idx[i] for i in artists]\n",
    "    artist_ids = input_data[artist_ids].reshape(1,-1)\n",
    "    return artist_ids\n",
    "\n",
    "def process_output(reponse, n, verbose=True):\n",
    "    artists = [idx_to_artist[i] for i in reponse]\n",
    "    if verbose:\n",
    "        print ('Recommended Artists: {}'.format(artists[1:n+1]))\n",
    "    return artists[1:n+1]"
   ]
  },
  {
   "cell_type": "code",
   "execution_count": 9,
   "id": "d00fa08b",
   "metadata": {},
   "outputs": [
    {
     "name": "stdout",
     "output_type": "stream",
     "text": [
      "\n",
      "Input artist: the beatles \n",
      "\n",
      "Recommended Artists: ['bob dylan', 'led zeppelin', 'the rolling stones', 'pink floyd', 'radiohead', 'the who', 'john lennon', 'david bowie', 'simon & garfunkel', 'beck', 'the white stripes', 'the beach boys', 'paul mccartney', 'modest mouse', 'the shins']\n",
      "\n",
      "Input artist: eagles \n",
      "\n",
      "Recommended Artists: ['elton john', 'billy joel', 'lynyrd skynyrd', 'chicago', 'eric clapton', 'boston', 'creedence clearwater revival', 'jimmy buffett', 'fleetwood mac', 'tom petty and the heartbreakers', 'the rolling stones', 'led zeppelin', 'james taylor', 'journey', 'pink floyd']\n",
      "\n",
      "Input artist: genesis \n",
      "\n",
      "Recommended Artists: ['yes', 'peter gabriel', 'jethro tull', 'rush', 'king crimson', 'styx', 'pink floyd', 'porcupine tree', 'the police', 'the moody blues', 'queensrÿche', 'dream theater', 'journey', 'ayreon', 'black sabbath']\n",
      "\n",
      "Input artist: nirvana \n",
      "\n",
      "Recommended Artists: ['alice in chains', 'pearl jam', 'soundgarden', 'the smashing pumpkins', 'stone temple pilots', 'nine inch nails', 'red hot chili peppers', 'foo fighters', 'led zeppelin', 'the white stripes', 'metallica', 'the beatles', 'pixies', 'green day', 'radiohead']\n",
      "\n",
      "Input artist: the strokes \n",
      "\n",
      "Recommended Artists: ['arctic monkeys', 'the killers', 'interpol', 'franz ferdinand', 'the shins', 'kings of leon', 'radiohead', 'the libertines', 'coldplay', 'the white stripes', 'death cab for cutie', 'modest mouse', 'red hot chili peppers', 'arcade fire', 'bloc party']\n"
     ]
    }
   ],
   "source": [
    "## Generate some predictions for select artists ##\n",
    "\n",
    "for artist in ['the beatles', 'eagles', 'genesis', 'nirvana', 'the strokes']:\n",
    "    print ('\\nInput artist: {} \\n'.format(artist))\n",
    "    input_data = process_input([artist], train_data)\n",
    "    response = predictor.predict(input_data)\n",
    "    process_output(response, 15)"
   ]
  },
  {
   "cell_type": "code",
   "execution_count": 13,
   "id": "d9005894",
   "metadata": {},
   "outputs": [
    {
     "name": "stdout",
     "output_type": "stream",
     "text": [
      "Artist Hit Rate for 100 Users (10 Recommendations per User): 29%\n"
     ]
    }
   ],
   "source": [
    "## Calculate 'hit rate' ##\n",
    "def rcmnd_from_fav(user, data, num_preds = 100):\n",
    "    play_history = data[:,user]\n",
    "    artist_idx = (-play_history).argsort()[:1]\n",
    "    predictions = predictor.predict(data[artist_idx].reshape(1,-1))\n",
    "    return predictions[1:num_preds+1]\n",
    "\n",
    "def hit_rate(user, data, predictions):\n",
    "    hits = train_data[:, user][predictions]\n",
    "    return hits\n",
    "\n",
    "hits = []\n",
    "num_users = 100\n",
    "preds_per_user = 10\n",
    "\n",
    "for user in np.random.randint(0, train_data.shape[1], size=num_users):\n",
    "    predictions = rcmnd_from_fav(user, train_data)\n",
    "    hits = hit_rate(user, train_data, predictions)\n",
    "    hits+=hits\n",
    "    \n",
    "rate = (np.count_nonzero(hits) / len(hits))\n",
    "\n",
    "print ('Artist Hit Rate for {} Users ({} Recommendations per User): {:.0%}'\\\n",
    "       .format(num_users, preds_per_user, rate))"
   ]
  },
  {
   "cell_type": "code",
   "execution_count": null,
   "id": "26a425f3",
   "metadata": {},
   "outputs": [],
   "source": []
  }
 ],
 "metadata": {
  "kernelspec": {
   "display_name": "conda_amazonei_mxnet_p36",
   "language": "python",
   "name": "conda_amazonei_mxnet_p36"
  },
  "language_info": {
   "codemirror_mode": {
    "name": "ipython",
    "version": 3
   },
   "file_extension": ".py",
   "mimetype": "text/x-python",
   "name": "python",
   "nbconvert_exporter": "python",
   "pygments_lexer": "ipython3",
   "version": "3.6.13"
  }
 },
 "nbformat": 4,
 "nbformat_minor": 5
}
