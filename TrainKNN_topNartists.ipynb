{
 "cells": [
  {
   "cell_type": "code",
   "execution_count": null,
   "id": "d5dec05e",
   "metadata": {},
   "outputs": [],
   "source": [
    "import boto3\n",
    "import sagemaker\n",
    "\n",
    "sagemaker_session = sagemaker.Session()\n",
    "role = sagemaker.get_execution_role()\n",
    "\n",
    "bucket = sagemaker_session.default_bucket()"
   ]
  },
  {
   "cell_type": "code",
   "execution_count": null,
   "id": "f18cc9dd",
   "metadata": {},
   "outputs": [],
   "source": [
    "data_dir = 'data' \n",
    "prefix = 'rcmdKNN'\n",
    "input_data = sagemaker_session.upload_data(data_dir, key_prefix=prefix)"
   ]
  },
  {
   "cell_type": "code",
   "execution_count": null,
   "id": "c71e3c8b",
   "metadata": {},
   "outputs": [],
   "source": [
    "from sagemaker.sklearn.estimator import SKLearn\n",
    "\n",
    "estimator = SKLearn(entry_point='train.py',\n",
    "                    framework_version='0.23-1',\n",
    "                    role=role,\n",
    "                    train_instance_count=1,\n",
    "                    train_instance_type='ml.c4.xlarge',\n",
    "                    py_version='py3',\n",
    "                    source_dir='source',\n",
    "                    image_uri=None,\n",
    "                    hyperparameters = {'n_neighbors':101,\n",
    "                                       'metric':'cosine',\n",
    "                                       'algorithm':'brute'})"
   ]
  },
  {
   "cell_type": "code",
   "execution_count": null,
   "id": "106dafcb",
   "metadata": {},
   "outputs": [],
   "source": [
    "estimator.fit({'train': input_data})"
   ]
  },
  {
   "cell_type": "code",
   "execution_count": null,
   "id": "308a2703",
   "metadata": {},
   "outputs": [],
   "source": [
    "from sagemaker.sklearn import SKLearnModel\n",
    "\n",
    "sklearn_model = SKLearnModel(model_data=estimator.model_data,\n",
    "                             role=role,\n",
    "                             entry_point=\"predict.py\",\n",
    "                             source_dir='source',\n",
    "                             framework_version='0.23-1')\n",
    "\n",
    "predictor = sklearn_model.deploy(instance_type=\"ml.m4.xlarge\", initial_instance_count=1)"
   ]
  },
  {
   "cell_type": "code",
   "execution_count": null,
   "id": "31b4d376",
   "metadata": {},
   "outputs": [],
   "source": [
    "import scipy\n",
    "import numpy as np\n",
    "train_data = scipy.sparse.load_npz('./data/artist_user_mtrx.npz')\n",
    "train_data = np.array(train_data.todense())"
   ]
  },
  {
   "cell_type": "code",
   "execution_count": null,
   "id": "6457fede",
   "metadata": {},
   "outputs": [],
   "source": [
    "import pickle\n",
    "with open('./datasources/artist_to_idx.pkl', 'rb') as f:\n",
    "    artist_to_idx = pickle.load(f)\n",
    "    \n",
    "with open('./datasources/idx_to_artist.pkl', 'rb') as f:\n",
    "    idx_to_artist = pickle.load(f)"
   ]
  },
  {
   "cell_type": "code",
   "execution_count": null,
   "id": "f86ef2c3",
   "metadata": {},
   "outputs": [],
   "source": [
    "def process_input(artists, input_data):\n",
    "    artist_ids = [artist_to_idx[i] for i in artists]\n",
    "    artist_ids = input_data[artist_ids].reshape(1,-1)\n",
    "    return artist_ids\n",
    "\n",
    "def process_output(result, n):\n",
    "    artists = [idx_to_artist[i] for i in result]\n",
    "    return artists[:n]"
   ]
  },
  {
   "cell_type": "code",
   "execution_count": 177,
   "id": "8b986b06",
   "metadata": {},
   "outputs": [
    {
     "data": {
      "text/plain": [
       "0.23"
      ]
     },
     "execution_count": 177,
     "metadata": {},
     "output_type": "execute_result"
    }
   ],
   "source": [
    "def rcmnd_from_fav(user, data, num_preds = 100):\n",
    "    play_history = data[:,user]\n",
    "    artist_idx = (-play_history).argsort()[:1]\n",
    "    predictions = predictor.predict(data[artist_idx].reshape(1,-1))\n",
    "    return predictions[1:num_preds+1]\n",
    "\n",
    "def hit_rate(user, data, predictions):\n",
    "    hits = train_data[:, user][predictions]\n",
    "    hit_rate = np.count_nonzero(hits) / len(hits)\n",
    "    return hits\n",
    "\n",
    "hits = []\n",
    "for user in np.random.randint(0, train_data.shape[1], size=100):\n",
    "    predictions = rcmnd_from_fav(user, train_data)\n",
    "    process_output(predictions, 10)\n",
    "    hits = hit_rate(user, train_data, predictions)\n",
    "    hits+=hits\n",
    "    \n",
    "np.count_nonzero(hits) / len(hits)"
   ]
  },
  {
   "cell_type": "code",
   "execution_count": null,
   "id": "978c66ec",
   "metadata": {},
   "outputs": [],
   "source": []
  }
 ],
 "metadata": {
  "kernelspec": {
   "display_name": "conda_amazonei_mxnet_p36",
   "language": "python",
   "name": "conda_amazonei_mxnet_p36"
  },
  "language_info": {
   "codemirror_mode": {
    "name": "ipython",
    "version": 3
   },
   "file_extension": ".py",
   "mimetype": "text/x-python",
   "name": "python",
   "nbconvert_exporter": "python",
   "pygments_lexer": "ipython3",
   "version": "3.6.13"
  }
 },
 "nbformat": 4,
 "nbformat_minor": 5
}
